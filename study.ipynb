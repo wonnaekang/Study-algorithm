{
 "cells": [
  {
   "cell_type": "markdown",
   "metadata": {},
   "source": [
    "## 1. 영화를 서로 유사하게 평가한 사용자를 구하는 프로그래밍 작성"
   ]
  },
  {
   "cell_type": "code",
   "execution_count": 1,
   "metadata": {},
   "outputs": [],
   "source": [
    "#코사인 유사도 활용\n",
    "from numpy import dot\n",
    "from numpy.linalg import norm\n",
    "\n",
    "data = {'A': [0, 5, 1, 2, 1], 'B': [0, 1, 1, 5, 1], 'C': [5, 3, 1, 1, 1], 'D': [5, 4, 2, 5, 0]}\n",
    "def similar_user(userid) :\n",
    "    dict = {}\n",
    "    similar_user = None\n",
    "    for similar_user in data.keys():\n",
    "        # 유저 아이디와 같은 아이디가 나온다면 패스\n",
    "        if similar_user == userid:\n",
    "            continue\n",
    "        # 코사인 유사도를 통해 구한 값과 유저 아이디를 딕셔너리에 추가\n",
    "        else:\n",
    "            dict[similar_user]=dot(data[userid], data[similar_user])/(norm(data[userid])*norm(data[similar_user]))\n",
    "            # 가장 큰 값을 가지는 키값을 가져온다.\n",
    "            max_key = max(dict, key=lambda k : dict[k])\n",
    "    \n",
    "    return max_key"
   ]
  },
  {
   "cell_type": "code",
   "execution_count": 2,
   "metadata": {},
   "outputs": [
    {
     "name": "stdout",
     "output_type": "stream",
     "text": [
      "D\n"
     ]
    }
   ],
   "source": [
    "similar_user_id = similar_user('A')\n",
    "print(similar_user_id)"
   ]
  },
  {
   "cell_type": "code",
   "execution_count": 3,
   "metadata": {},
   "outputs": [],
   "source": [
    "# 코사인 유사도 값을 확인 하기 위한 코드\n",
    "def cos_sim(userid):\n",
    "    dict={}\n",
    "    similar_user = None\n",
    "    for similar_user in data.keys():\n",
    "        if similar_user == userid:\n",
    "            continue\n",
    "        else:\n",
    "            dict[similar_user]=dot(data[userid], data[similar_user])/(norm(data[userid])*norm(data[similar_user]))\n",
    "            \n",
    "    print(dict)"
   ]
  },
  {
   "cell_type": "code",
   "execution_count": 4,
   "metadata": {},
   "outputs": [
    {
     "name": "stdout",
     "output_type": "stream",
     "text": [
      "{'B': 0.5770175983068111, 'C': 0.561011665589618, 'D': 0.686942065185747}\n",
      "{'A': 0.5770175983068111, 'C': 0.31068488300060004, 'D': 0.7002186247515696}\n",
      "{'A': 0.561011665589618, 'B': 0.31068488300060004, 'D': 0.8645752410810453}\n",
      "{'A': 0.686942065185747, 'B': 0.7002186247515696, 'C': 0.8645752410810453}\n"
     ]
    }
   ],
   "source": [
    "cos_sim('A')\n",
    "cos_sim('B')\n",
    "cos_sim('C')\n",
    "cos_sim('D')"
   ]
  },
  {
   "cell_type": "markdown",
   "metadata": {},
   "source": [
    "## 2. 특정한 수의 순서 위치를 리턴 하는 프로그래밍을 작성"
   ]
  },
  {
   "cell_type": "code",
   "execution_count": 5,
   "metadata": {},
   "outputs": [],
   "source": [
    "data = [1, 5, 7, 25, 27, 30, 50, 63, 70, 98, 100]\n",
    "\n",
    "def search_number_index(num):\n",
    "    # 초기에 search_index를 -1로 설정\n",
    "    search_index=-1\n",
    "    \n",
    "    # data 리스트 전부를 확인하기 위해 data의 길이반큼 반복문 실행\n",
    "    for i in range(len(data)) :\n",
    "        # 특정 위치의 값과 num이 같으면 위치를 알려주는 index()함수 호출\n",
    "        if data[i]==num:\n",
    "            search_index = data.index(num)+1\n",
    "        # 리스트 처음부터 끝까지 반복할 수 있도록 continue를 써준다.\n",
    "        else:\n",
    "            continue\n",
    "            \n",
    "    # 값이 없을시 초기 -1 설정한 search_index를 그대로 호출\n",
    "    return search_index"
   ]
  },
  {
   "cell_type": "code",
   "execution_count": 6,
   "metadata": {},
   "outputs": [
    {
     "name": "stdout",
     "output_type": "stream",
     "text": [
      "2\n",
      "6\n",
      "-1\n"
     ]
    }
   ],
   "source": [
    "search_index = search_number_index(5)\n",
    "print(search_index)\n",
    "search_index = search_number_index(30)\n",
    "print(search_index)\n",
    "search_index = search_number_index(205)\n",
    "print(search_index)"
   ]
  },
  {
   "cell_type": "code",
   "execution_count": null,
   "metadata": {},
   "outputs": [],
   "source": []
  }
 ],
 "metadata": {
  "kernelspec": {
   "display_name": "Python 3",
   "language": "python",
   "name": "python3"
  },
  "language_info": {
   "codemirror_mode": {
    "name": "ipython",
    "version": 3
   },
   "file_extension": ".py",
   "mimetype": "text/x-python",
   "name": "python",
   "nbconvert_exporter": "python",
   "pygments_lexer": "ipython3",
   "version": "3.8.5"
  }
 },
 "nbformat": 4,
 "nbformat_minor": 4
}
