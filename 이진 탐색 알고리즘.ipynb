{
 "cells": [
  {
   "cell_type": "markdown",
   "metadata": {},
   "source": [
    "# 이진 탐색 알고리즘\n",
    "- 순차 탐색 : 데이터를 찾기 위해 앞에서부터 데이터를 하나씩 확인\n",
    "- 이진 탐색 : 탐색 범위를 절반씩 좁혀가며 데이터를 탐색"
   ]
  },
  {
   "cell_type": "code",
   "execution_count": 3,
   "metadata": {},
   "outputs": [
    {
     "name": "stdout",
     "output_type": "stream",
     "text": [
      "10 7\n",
      "1 3 5 7 9 11 13 15 17 19\n",
      "4\n"
     ]
    }
   ],
   "source": [
    "def binary_search(array, target, start, end):\n",
    "    if start > end:\n",
    "        return None\n",
    "    mid = (start + end)//2\n",
    "    #찾은 경우 중간점 인덱스 반환\n",
    "    if array[mid]==target:\n",
    "        return mid\n",
    "    # 중간점의 값보다 찾고자 하는 값이 작은 경우 왼쪽 확인\n",
    "    elif array[mid] > target:\n",
    "        return binary_search(array, target, start, mid-1)\n",
    "    # 중간점의 값보다 찾고자 하는 값이 큰 경우 오른쪽 확인\n",
    "    else:\n",
    "        return binary_search(array, target, mid+1, end)\n",
    "    \n",
    "#n(원소의 개수)과 target(찾고자 하는 값)을 입력 받기\n",
    "n, target = list(map(int,input().split()))\n",
    "# 전체 원소 입력 받기\n",
    "array = list(map(int, input().split()))\n",
    "\n",
    "# 이진 탐색 수행 결과 출력\n",
    "result = binary_search(array, target, 0, n-1)\n",
    "if result == None:\n",
    "    print(\"x\")\n",
    "else:\n",
    "    print(result+1)"
   ]
  },
  {
   "cell_type": "code",
   "execution_count": 4,
   "metadata": {},
   "outputs": [
    {
     "name": "stdout",
     "output_type": "stream",
     "text": [
      "7\n"
     ]
    }
   ],
   "source": [
    "def binary_search(array, target, start, end):\n",
    "    while start <= end:\n",
    "        mid = (start + end) // 2\n",
    "        # If the target is found, return the mid index.\n",
    "        if array[mid] == target:\n",
    "            return mid\n",
    "        # If the value of the mid index is greater than the target, search the left part.\n",
    "        elif array[mid] > target:\n",
    "            end = mid - 1\n",
    "        # If the value of the mid index is smaller than the target, search the right part.\n",
    "        else:\n",
    "            start = mid + 1\n",
    "    return None\n",
    "\n",
    "n = 10\n",
    "target = 13\n",
    "array = [1, 3, 5, 7, 9, 11, 13, 15, 17, 19]\n",
    "\n",
    "result = binary_search(array, target, 0, n - 1)\n",
    "if result == None:\n",
    "    print(None)\n",
    "else:\n",
    "    print(result + 1)"
   ]
  },
  {
   "cell_type": "markdown",
   "metadata": {},
   "source": [
    "## bisect_left(a,x): 정렬된 순서를 유지하면서 배열a에 x를 삽입할 가장 왼쪽 인덱스 반환\n",
    "## bisect_right(a,x): 정렬된 순서를 유지하면서 배열 a에 x를 삽입할 가장 오른쪽 인덱스를 반환"
   ]
  },
  {
   "cell_type": "code",
   "execution_count": 5,
   "metadata": {},
   "outputs": [],
   "source": [
    "from bisect import bisect_left, bisect_right"
   ]
  },
  {
   "cell_type": "code",
   "execution_count": 6,
   "metadata": {},
   "outputs": [
    {
     "name": "stdout",
     "output_type": "stream",
     "text": [
      "2\n",
      "4\n"
     ]
    }
   ],
   "source": [
    "a = [1,2,4,4,8]\n",
    "x = 4\n",
    "\n",
    "print(bisect_left(a,x))\n",
    "print(bisect_right(a,x))"
   ]
  },
  {
   "cell_type": "markdown",
   "metadata": {},
   "source": [
    "## 값이 특정 범위에 속하는 데이터 개수 구하기"
   ]
  },
  {
   "cell_type": "code",
   "execution_count": 7,
   "metadata": {},
   "outputs": [
    {
     "name": "stdout",
     "output_type": "stream",
     "text": [
      "2\n",
      "6\n"
     ]
    }
   ],
   "source": [
    "def count_by_range(a, left_value, right_value):\n",
    "    right_index = bisect_right(a, right_value)\n",
    "    left_index = bisect_left(a, left_value)\n",
    "    return right_index - left_index\n",
    "\n",
    "# 배열 선언\n",
    "a = [1,2,3,3,3,3,4,4,8,9]\n",
    "\n",
    "# 값이 4인 데이터 개수 출력\n",
    "print(count_by_range(a,4,4))\n",
    "# 값이 -1 3 범위에 있는 데이터 개수\n",
    "print(count_by_range(a,-1,3))"
   ]
  },
  {
   "cell_type": "markdown",
   "metadata": {},
   "source": [
    "# 파라메트릭 서치\n",
    "- 최적화 문제를 결정 문제로 바꾸어 해결하는 기법\n",
    "- 이진 탐색 이용"
   ]
  },
  {
   "cell_type": "markdown",
   "metadata": {},
   "source": [
    "# 절단기에 높이(h) 지정 떡 한 번에 절단(h보다 낮은 떡은 잘리지 않음)\n",
    "- 요청한 총 길이가 m일 때 적어도 m만큼의 떡을 얻기 위해 절단기에 설정할 수 있는 높이의 최댓값"
   ]
  },
  {
   "cell_type": "code",
   "execution_count": 8,
   "metadata": {},
   "outputs": [
    {
     "name": "stdout",
     "output_type": "stream",
     "text": [
      "5 16\n",
      "18 19 15 14 13\n",
      "12\n"
     ]
    }
   ],
   "source": [
    "# 떡의 개수(n)와 요청한 떡의 길이(m)을 입력\n",
    "n,m=list(map(int, input().split(' ')))\n",
    "# 각 떡의 개별 높이 정보를 입력\n",
    "array = list(map(int,input().split()))\n",
    "\n",
    "# 이진 탐색을 위한 시작점과 끝점 설정\n",
    "start = 0\n",
    "end = max(array)\n",
    "\n",
    "# 이진 탐색 수행(반복적)\n",
    "result=0\n",
    "while(start<=end):\n",
    "    total=0\n",
    "    mid = (start+end)//2\n",
    "    for x in array:\n",
    "        # 잘랐을 때의 떡의 양 계산\n",
    "        if x > mid:\n",
    "            total +=x-mid\n",
    "    # 떡의 양이 부족한 경우 더 많이 자르기(왼쪽 부분 탐색)\n",
    "    if total<m:\n",
    "        end = mid-1\n",
    "    # 떡의 양이 충분한 경우 덜 자르기(오른쪽 부분 탐색)\n",
    "    else:\n",
    "        result = mid # 최대한 덜 잘랐을 때가 정답\n",
    "        start = mid+1\n",
    "#정답 출력\n",
    "print(result)"
   ]
  },
  {
   "cell_type": "markdown",
   "metadata": {},
   "source": [
    "# n개의 원소를 포함하고 있는 수열이 오름차순 정렬\n",
    "# x가 등장하는 횟수를 계산"
   ]
  },
  {
   "cell_type": "code",
   "execution_count": 9,
   "metadata": {},
   "outputs": [
    {
     "name": "stdout",
     "output_type": "stream",
     "text": [
      "8 2\n",
      "1 2 2 2 3 3 3 9\n",
      "3\n"
     ]
    }
   ],
   "source": [
    "def count_by_range(a, left_value, right_value):\n",
    "    right_index = bisect_right(a, right_value)\n",
    "    left_index = bisect_left(a, left_value)\n",
    "    return right_index - left_index\n",
    "\n",
    "n,x=map(int, input().split())# 데이터의 개수 n 찾고자 하는 값 x 입력받기\n",
    "array = list(map(int, input().split())) # 전체 데이터 입력받기\n",
    "\n",
    "#값이 [x,x] 범위에 있는 데이터의 개수 계산\n",
    "count = count_by_range(array, x, x)\n",
    "\n",
    "#값이 x인 원소가 존재하지 않는다면\n",
    "if count==0:\n",
    "    print(-1)\n",
    "#값이 x인 원소가 존재한다면\n",
    "else:\n",
    "    print(count)"
   ]
  },
  {
   "cell_type": "code",
   "execution_count": null,
   "metadata": {},
   "outputs": [],
   "source": []
  }
 ],
 "metadata": {
  "kernelspec": {
   "display_name": "Python 3",
   "language": "python",
   "name": "python3"
  },
  "language_info": {
   "codemirror_mode": {
    "name": "ipython",
    "version": 3
   },
   "file_extension": ".py",
   "mimetype": "text/x-python",
   "name": "python",
   "nbconvert_exporter": "python",
   "pygments_lexer": "ipython3",
   "version": "3.8.5"
  }
 },
 "nbformat": 4,
 "nbformat_minor": 4
}
