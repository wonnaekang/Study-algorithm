{
 "cells": [
  {
   "cell_type": "markdown",
   "metadata": {},
   "source": [
    "# 거스름돈 오백원 백원 오십원 십원 무한히 존재\n",
    "# 거슬러 주어야 할 동전의 최소 개수 \n",
    "# >> 거스름돈은 항상 10의 배수"
   ]
  },
  {
   "cell_type": "code",
   "execution_count": 1,
   "metadata": {},
   "outputs": [
    {
     "name": "stdout",
     "output_type": "stream",
     "text": [
      "6\n"
     ]
    }
   ],
   "source": [
    "n = 1260\n",
    "count = 0\n",
    "\n",
    "#큰 단위의 화폐부터 차례대로 확인\n",
    "array=[500,100,50,10]\n",
    "\n",
    "for coin in array:\n",
    "    count +=n//coin #해당 화폐로 거슬러 줄 수 있는 동전의 개수 세기\n",
    "    n %=coin\n",
    "print(count)"
   ]
  },
  {
   "cell_type": "markdown",
   "metadata": {},
   "source": [
    "# 어떠한 수 n이 1이 될 때까지\n",
    "# 1. n에서 1을 뺍니다.\n",
    "# 2. n을 k로 나눕니다.(나누어 떨어질 때만)\n",
    "# 과정을 수행해야 하는 최소 횟수"
   ]
  },
  {
   "cell_type": "code",
   "execution_count": 23,
   "metadata": {},
   "outputs": [
    {
     "name": "stdout",
     "output_type": "stream",
     "text": [
      "15 3\n",
      "4\n"
     ]
    }
   ],
   "source": [
    "n, k = map(int, input().split())\n",
    "result = 0\n",
    "\n",
    "while True:\n",
    "    #n이 k로 나누어 떨어지는 수가 될 때까지 뺴기\n",
    "    target = (n//k)*k\n",
    "    result += (n-target)\n",
    "    n=target\n",
    "    # n이 k보다 작을때(더 이상 나눌 수 없을 때) 반복문 탈출\n",
    "    if n<k:\n",
    "        break\n",
    "    # k로 나누기\n",
    "    result +=1\n",
    "    n //=k\n",
    "# 마지막으로 남은 수에 대하여 1씩 뺴기\n",
    "result +=(n-1)\n",
    "print(result)"
   ]
  },
  {
   "cell_type": "markdown",
   "metadata": {},
   "source": [
    "# 문자열 s 주어졌을때 * +를 사용하여 만들어질 수 있는 가장 큰 수를 구하는 프로그램\n",
    "# 왼쪽에서부터 순서대로 이루어진다."
   ]
  },
  {
   "cell_type": "code",
   "execution_count": 24,
   "metadata": {},
   "outputs": [
    {
     "name": "stdout",
     "output_type": "stream",
     "text": [
      "1123\n",
      "12\n"
     ]
    }
   ],
   "source": [
    "data=input()\n",
    "\n",
    "#첫 번쨰 문자를 숫자로 변경하여 대입\n",
    "result = int(data[0])\n",
    "\n",
    "for i in range(1, len(data)):\n",
    "    # 두 수 중에서 하나라도 '0' 혹은 '1'인 경우, 곱하기보다는 더하기 수행\n",
    "    num = int(data[i])\n",
    "    if num<=1 or result <= 1:\n",
    "        result +=num\n",
    "    else:\n",
    "        result *=num\n",
    "print(result)"
   ]
  },
  {
   "cell_type": "markdown",
   "metadata": {},
   "source": [
    "# 공포도가 x인 모험가는 반드시 x명 이상으로 구성\n",
    "# 여행을 떠날 수 있는 그룹 수의 최댓값"
   ]
  },
  {
   "cell_type": "code",
   "execution_count": 27,
   "metadata": {},
   "outputs": [
    {
     "name": "stdout",
     "output_type": "stream",
     "text": [
      "2\n",
      "15\n",
      "0\n"
     ]
    }
   ],
   "source": [
    "n = int(input())\n",
    "data = list(map(int,input().split()))\n",
    "data.sort()\n",
    "\n",
    "result=0# 총 그룹의 수\n",
    "count = 0 # 현재 그룹에 포함된 모험가의 수\n",
    "for i in data:# 공포도를 낮은 것부터 하나씩 확인하며\n",
    "    count +=1#현재 그룹에 해당 모험가를 포함\n",
    "    if count >=i:#공포도 이상이면 그룹 결성\n",
    "        result +=1#총 그룹 수 증가\n",
    "        count =0 #현재 그룹 포함된 모험가 수 초기화\n",
    "        \n",
    "print(result)#총 그룹 수 출력"
   ]
  },
  {
   "cell_type": "markdown",
   "metadata": {},
   "source": [
    "# n*n 정사각형 공간\n",
    "# 가장 왼쪽 위 좌표(1,1) 가장 오른쪽 아래(n,n)\n",
    "# 상,하 좌, 우 방향으로 이동 시작(1,1)\n",
    "# l, r, u, d"
   ]
  },
  {
   "cell_type": "code",
   "execution_count": 41,
   "metadata": {},
   "outputs": [
    {
     "name": "stdout",
     "output_type": "stream",
     "text": [
      "5\n",
      "R R R U D\n",
      "2 4\n"
     ]
    }
   ],
   "source": [
    "# n 입력 받기\n",
    "n=int(input())\n",
    "x,y = 1, 1\n",
    "plans = input().split()\n",
    "\n",
    "\n",
    "#l r u d에 따른 이동 방향\n",
    "dx=[0,0,-1,1]#행\n",
    "dy=[-1,1,0,0]#열\n",
    "move_types=['L','R','U','D']\n",
    "\n",
    "# 이동 계획을 하나씩 확인하기\n",
    "for plan in plans:\n",
    "    #이동 후 좌표 구하기\n",
    "    for i in range(len(move_types)):\n",
    "        if plan == move_types[i]:\n",
    "            nx = x+dx[i]\n",
    "            ny = y+dy[i]\n",
    "    #공간을 벗어나는 경우 무시\n",
    "    if nx<1 or ny<1 or nx>n or ny>n:\n",
    "        continue\n",
    "    #이동 수행\n",
    "    x,y = nx, ny\n",
    "print(x,y)"
   ]
  },
  {
   "cell_type": "markdown",
   "metadata": {},
   "source": [
    "# 00시 00분 00초부터 n시 59분 59초까지 3 포함\n",
    "# n은 0부터 23까지"
   ]
  },
  {
   "cell_type": "code",
   "execution_count": 3,
   "metadata": {},
   "outputs": [
    {
     "name": "stdout",
     "output_type": "stream",
     "text": [
      "5\n",
      "11475\n"
     ]
    }
   ],
   "source": [
    "#완전 탐색 문제\n",
    "# h 입력 받기\n",
    "h = int(input())\n",
    "count =0\n",
    "\n",
    "for i in range(h+1):#시\n",
    "    for j in range(60):#분\n",
    "        for k in range(60):#초\n",
    "            # 매 시각 안에 '3'이 포함되어 있다면 카운트 증가\n",
    "            if '3' in str(i)+str(j)+str(k):\n",
    "                count +=1\n",
    "print(count)"
   ]
  },
  {
   "cell_type": "markdown",
   "metadata": {},
   "source": [
    "# 8*8 좌표 평면 L자 형태로만 이동 밖으로X\n",
    "# 수평으로 두칸 후 수직 한칸\n",
    "# 수직으로 두칸 후 수평 한칸\n",
    "# 행 1~8 열 A,H"
   ]
  },
  {
   "cell_type": "code",
   "execution_count": 14,
   "metadata": {},
   "outputs": [
    {
     "name": "stdout",
     "output_type": "stream",
     "text": [
      "b2\n",
      "4\n"
     ]
    }
   ],
   "source": [
    "# 현재 나이트의 위치 입력받기\n",
    "input_data = input()\n",
    "row = int(input_data[1])#행\n",
    "column = int(ord(input_data[0]))-int(ord('a'))+1\n",
    "# 나이트가 이동할 수 있는 8가지 방향 정의\n",
    "steps=[(-2,-1),(-1,-2),(1,-2),(2,-1),(2,1),(1,2),(-1,2),(-2,1)]\n",
    "# 8가지 방향에 대하여 각 위치로 이동이 가능한지 확인\n",
    "result=0\n",
    "for step in steps:\n",
    "    #이동하고자 하는 위치 확인\n",
    "    next_row=row+step[0]\n",
    "    next_column = column+step[1]\n",
    "    # 해당 위치로 이동이 가능하다면 카운트 증가\n",
    "    if next_row>=1 and next_row <=8 and next_column>=1 and next_column<=8:\n",
    "        result +=1\n",
    "print(result)"
   ]
  },
  {
   "cell_type": "markdown",
   "metadata": {},
   "source": [
    "# 알파벳 대문자와 숫자로 구성된 문자열\n",
    "# 모든 알파벳을 오름차순 정렬 이어서 출력\n",
    "# 모든 숫자 더한 값을 이어서 출력"
   ]
  },
  {
   "cell_type": "code",
   "execution_count": 15,
   "metadata": {},
   "outputs": [
    {
     "name": "stdout",
     "output_type": "stream",
     "text": [
      "aaa23123\n",
      "aaa11\n"
     ]
    }
   ],
   "source": [
    "data = input()\n",
    "result =[]\n",
    "value=0\n",
    "\n",
    "#문자를 하나씩 확인하며\n",
    "for x in data:\n",
    "    #알파벳인 경우 결과 리스트에 삽입\n",
    "    #isalpha 문자인지 아닌지 리턴\n",
    "    if x.isalpha():\n",
    "        result.append(x)\n",
    "    #수자는 따로 더하기\n",
    "    else:\n",
    "        value +=int(x)\n",
    "        \n",
    "#알파벳을 오름차순으로 정렬\n",
    "result.sort()\n",
    "\n",
    "#숫자가 하나라도 존재하는 경우 가장 뒤에 삽입\n",
    "if value !=0:\n",
    "    result.append(str(value))\n",
    "#최종 결과 출력(리스트를 문자열로 변환하여 출력)\n",
    "#join 리스트의 문자열들을 합치는 역할\n",
    "print(''.join(result))"
   ]
  }
 ],
 "metadata": {
  "kernelspec": {
   "display_name": "Python 3",
   "language": "python",
   "name": "python3"
  },
  "language_info": {
   "codemirror_mode": {
    "name": "ipython",
    "version": 3
   },
   "file_extension": ".py",
   "mimetype": "text/x-python",
   "name": "python",
   "nbconvert_exporter": "python",
   "pygments_lexer": "ipython3",
   "version": "3.8.5"
  }
 },
 "nbformat": 4,
 "nbformat_minor": 4
}
